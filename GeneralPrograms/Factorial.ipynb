{
 "cells": [
  {
   "cell_type": "markdown",
   "metadata": {},
   "source": [
    "#### formula of factorial\n",
    "n! = n* n-1* n-2*.... *1"
   ]
  },
  {
   "cell_type": "code",
   "execution_count": 17,
   "metadata": {},
   "outputs": [
    {
     "name": "stdout",
     "output_type": "stream",
     "text": [
      "Enter number:5\n",
      "120\n"
     ]
    }
   ],
   "source": [
    "n = int(input(\"Enter number:\"))\n",
    "fact = 1\n",
    "if n < 0:\n",
    "    print(\"please enter positive number\")\n",
    "elif n == 0 or n == 1:\n",
    "    print(\"Given number fact is\",n)\n",
    "else:\n",
    "    while n > 1:\n",
    "        fact *= n\n",
    "        n -= 1\n",
    "    print(fact)"
   ]
  },
  {
   "cell_type": "code",
   "execution_count": 20,
   "metadata": {},
   "outputs": [],
   "source": [
    "def factorial(num):\n",
    "    fact = 1\n",
    "    if num < 0:\n",
    "        print(\"please enter positive number\")\n",
    "    elif num == 0 or num == 1:\n",
    "        print(\"The factorial of given number is\",n)\n",
    "    else:\n",
    "        while(num>1):\n",
    "            fact *= num\n",
    "            num -= 1\n",
    "    return fact"
   ]
  },
  {
   "cell_type": "code",
   "execution_count": 22,
   "metadata": {},
   "outputs": [
    {
     "data": {
      "text/plain": [
       "479001600"
      ]
     },
     "execution_count": 22,
     "metadata": {},
     "output_type": "execute_result"
    }
   ],
   "source": [
    "factorial(12)"
   ]
  },
  {
   "cell_type": "code",
   "execution_count": 16,
   "metadata": {},
   "outputs": [
    {
     "name": "stdout",
     "output_type": "stream",
     "text": [
      "enter the number:5\n"
     ]
    },
    {
     "data": {
      "text/plain": [
       "120"
      ]
     },
     "execution_count": 16,
     "metadata": {},
     "output_type": "execute_result"
    }
   ],
   "source": [
    "import math\n",
    "n = int(input(\"enter the number:\"))\n",
    "math.factorial(n)"
   ]
  },
  {
   "cell_type": "code",
   "execution_count": null,
   "metadata": {},
   "outputs": [],
   "source": []
  }
 ],
 "metadata": {
  "kernelspec": {
   "display_name": "Python 3",
   "language": "python",
   "name": "python3"
  },
  "language_info": {
   "codemirror_mode": {
    "name": "ipython",
    "version": 3
   },
   "file_extension": ".py",
   "mimetype": "text/x-python",
   "name": "python",
   "nbconvert_exporter": "python",
   "pygments_lexer": "ipython3",
   "version": "3.8.5"
  }
 },
 "nbformat": 4,
 "nbformat_minor": 4
}
