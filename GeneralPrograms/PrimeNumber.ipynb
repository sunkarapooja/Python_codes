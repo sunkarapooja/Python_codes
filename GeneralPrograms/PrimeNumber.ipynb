{
 "cells": [
  {
   "cell_type": "code",
   "execution_count": 11,
   "metadata": {},
   "outputs": [
    {
     "name": "stdout",
     "output_type": "stream",
     "text": [
      "3 is  prime\n"
     ]
    }
   ],
   "source": [
    "num = 3\n",
    "if num > 1:\n",
    "    for i in range(2,num):\n",
    "        if(num%i) ==0 :\n",
    "            print(\"{} is not prime \".format(num))\n",
    "            break\n",
    "        else:\n",
    "            print(\"{} is  prime\".format(num))\n",
    "            break"
   ]
  },
  {
   "cell_type": "code",
   "execution_count": 12,
   "metadata": {},
   "outputs": [],
   "source": [
    "def isPrimeNumber(num):\n",
    "    if num > 1:\n",
    "        for i in range(2,num):\n",
    "            if(num%i)==0:\n",
    "                print(\"{} is not prime\".format(num))\n",
    "                break\n",
    "            else:\n",
    "                print(\"{} is prime\".format(num))\n",
    "                break"
   ]
  },
  {
   "cell_type": "code",
   "execution_count": 15,
   "metadata": {},
   "outputs": [
    {
     "name": "stdout",
     "output_type": "stream",
     "text": [
      "120 is not prime\n"
     ]
    }
   ],
   "source": [
    "isPrimeNumber(120)"
   ]
  },
  {
   "cell_type": "code",
   "execution_count": 42,
   "metadata": {},
   "outputs": [],
   "source": [
    "## prime nuber between interval\n",
    "ex = []\n",
    "def primeNumber(num1,num2):\n",
    "    for num in range(num1,num2+1):\n",
    "        if num > 1:\n",
    "            for i in range(2,num):\n",
    "                \n",
    "                if(num%i)==0:\n",
    "                    break\n",
    "                else:\n",
    "                    #print(\"{} is prime\".format(num))\n",
    "                    ex.append(num)\n",
    "                    break \n",
    "    print(ex)"
   ]
  },
  {
   "cell_type": "code",
   "execution_count": 43,
   "metadata": {},
   "outputs": [
    {
     "name": "stdout",
     "output_type": "stream",
     "text": [
      "[3, 5, 7, 9, 11, 13, 15, 17, 19, 21, 23, 25, 27, 29, 31, 33, 35, 37, 39, 41, 43, 45, 47, 49, 51, 53, 55, 57, 59, 61, 63, 65, 67, 69, 71, 73, 75, 77, 79, 81, 83, 85, 87, 89, 91, 93, 95, 97, 99]\n"
     ]
    }
   ],
   "source": [
    "primeNumber(1,100)"
   ]
  },
  {
   "cell_type": "code",
   "execution_count": null,
   "metadata": {},
   "outputs": [],
   "source": []
  }
 ],
 "metadata": {
  "kernelspec": {
   "display_name": "Python 3",
   "language": "python",
   "name": "python3"
  },
  "language_info": {
   "codemirror_mode": {
    "name": "ipython",
    "version": 3
   },
   "file_extension": ".py",
   "mimetype": "text/x-python",
   "name": "python",
   "nbconvert_exporter": "python",
   "pygments_lexer": "ipython3",
   "version": "3.8.5"
  }
 },
 "nbformat": 4,
 "nbformat_minor": 4
}
