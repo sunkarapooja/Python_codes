{
 "cells": [
  {
   "cell_type": "code",
   "execution_count": 38,
   "metadata": {},
   "outputs": [
    {
     "name": "stdout",
     "output_type": "stream",
     "text": [
      "Enter a number: 24\n",
      "not Amstrong\n"
     ]
    }
   ],
   "source": [
    "num = int(input(\"Enter a number: \"))\n",
    "x = len(str(num))\n",
    "sum = 0\n",
    "temp = num\n",
    "while temp >0:\n",
    "    digit = temp%10\n",
    "    #print(digit)\n",
    "    sum += digit **x\n",
    "    temp //= 10\n",
    "if sum == num:\n",
    "    print(\"Amstrong\")\n",
    "else:\n",
    "    print(\"not Amstrong\")"
   ]
  },
  {
   "cell_type": "code",
   "execution_count": 34,
   "metadata": {},
   "outputs": [],
   "source": [
    "def isAmstrongNumber(num):\n",
    "    x = len(str(num))\n",
    "    temp = num\n",
    "    sum = 0\n",
    "    while temp > 0:\n",
    "        digits = temp%10\n",
    "        sum += digits ** x\n",
    "        temp //=10\n",
    "    if(sum == num):\n",
    "        print(\"{}  is Amstrong\".format(num))\n",
    "    else:\n",
    "        print(\"{} is not Amstrong\".format(num))"
   ]
  },
  {
   "cell_type": "code",
   "execution_count": 36,
   "metadata": {},
   "outputs": [
    {
     "name": "stdout",
     "output_type": "stream",
     "text": [
      "121 is not Amstrong\n"
     ]
    }
   ],
   "source": [
    "isAmstrongNumber(121)"
   ]
  },
  {
   "cell_type": "code",
   "execution_count": null,
   "metadata": {},
   "outputs": [],
   "source": []
  }
 ],
 "metadata": {
  "kernelspec": {
   "display_name": "Python 3",
   "language": "python",
   "name": "python3"
  },
  "language_info": {
   "codemirror_mode": {
    "name": "ipython",
    "version": 3
   },
   "file_extension": ".py",
   "mimetype": "text/x-python",
   "name": "python",
   "nbconvert_exporter": "python",
   "pygments_lexer": "ipython3",
   "version": "3.8.5"
  }
 },
 "nbformat": 4,
 "nbformat_minor": 4
}
